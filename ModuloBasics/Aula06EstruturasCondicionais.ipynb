{
 "cells": [
  {
   "cell_type": "code",
   "execution_count": null,
   "metadata": {},
   "outputs": [],
   "source": [
    "# Estruturas condicionais"
   ]
  },
  {
   "cell_type": "code",
   "execution_count": 2,
   "metadata": {},
   "outputs": [
    {
     "name": "stdout",
     "output_type": "stream",
     "text": [
      "Qual o valor da corrida15\n",
      "Pague a corrida\n"
     ]
    }
   ],
   "source": [
    "valor_passagem = 4.30\n",
    "\n",
    "valor_corrida = float(input('Qual o valor da corrida? '))\n",
    "\n",
    "if(valor_corrida <= valor_passagem * 5):\n",
    "    print('Pague a corrida')\n",
    "if(valor_corrida >= valor_passagem * 5):\n",
    "    print('Vá de ônibus')"
   ]
  },
  {
   "cell_type": "code",
   "execution_count": 4,
   "metadata": {},
   "outputs": [
    {
     "name": "stdout",
     "output_type": "stream",
     "text": [
      "Qual o valor da corrida15\n",
      "Pague a corrida\n"
     ]
    }
   ],
   "source": [
    "valor_passagem = 4.30\n",
    "\n",
    "valor_corrida = float(input('Qual o valor da corrida? '))\n",
    "\n",
    "if(valor_corrida <= valor_passagem * 5):\n",
    "    print('Pague a corrida')\n",
    "else: \n",
    "    print('Vá de ônibus')"
   ]
  },
  {
   "cell_type": "code",
   "execution_count": 9,
   "metadata": {},
   "outputs": [
    {
     "name": "stdout",
     "output_type": "stream",
     "text": [
      "Qual o valor da corrida? 16\n",
      "Pague a corrida\n"
     ]
    }
   ],
   "source": [
    "valor_passagem = 4.30\n",
    "\n",
    "valor_corrida = float(input('Qual o valor da corrida? '))\n",
    "\n",
    "if(valor_corrida <= valor_passagem * 5):\n",
    "    print('Pague a corrida')\n",
    "elif(valor_corrida > valor_passagem * 5 and valor_corrida <= valor_passagem * 6):\n",
    "    print('Aguarde um pouco, o valor pode diminuir')\n",
    "else: \n",
    "    print('Vá de ônibus')"
   ]
  },
  {
   "cell_type": "code",
   "execution_count": null,
   "metadata": {},
   "outputs": [],
   "source": []
  },
  {
   "cell_type": "code",
   "execution_count": null,
   "metadata": {},
   "outputs": [],
   "source": []
  }
 ],
 "metadata": {
  "kernelspec": {
   "display_name": "Python 3",
   "language": "python",
   "name": "python3"
  },
  "language_info": {
   "codemirror_mode": {
    "name": "ipython",
    "version": 3
   },
   "file_extension": ".py",
   "mimetype": "text/x-python",
   "name": "python",
   "nbconvert_exporter": "python",
   "pygments_lexer": "ipython3",
   "version": "3.7.6"
  }
 },
 "nbformat": 4,
 "nbformat_minor": 4
}
