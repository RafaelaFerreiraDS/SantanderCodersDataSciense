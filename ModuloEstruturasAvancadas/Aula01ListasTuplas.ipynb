{
 "cells": [
  {
   "cell_type": "code",
   "execution_count": 1,
   "metadata": {},
   "outputs": [],
   "source": [
    "# Listas"
   ]
  },
  {
   "cell_type": "code",
   "execution_count": 2,
   "metadata": {},
   "outputs": [
    {
     "name": "stdout",
     "output_type": "stream",
     "text": [
      "['Brasil', 'Argentina', 'China', 'Canadá', 'Japão']\n"
     ]
    }
   ],
   "source": [
    "nomes_paises = ['Brasil', 'Argentina', 'China', 'Canadá', 'Japão']\n",
    "print(nomes_paises)"
   ]
  },
  {
   "cell_type": "code",
   "execution_count": 3,
   "metadata": {},
   "outputs": [
    {
     "name": "stdout",
     "output_type": "stream",
     "text": [
      "Tamanho da lista:  5\n"
     ]
    }
   ],
   "source": [
    "print('Tamanho da lista: ', len(nomes_paises))"
   ]
  },
  {
   "cell_type": "code",
   "execution_count": 4,
   "metadata": {},
   "outputs": [
    {
     "name": "stdout",
     "output_type": "stream",
     "text": [
      "País:  Japão\n"
     ]
    }
   ],
   "source": [
    "print('País: ', nomes_paises[4])"
   ]
  },
  {
   "cell_type": "code",
   "execution_count": 5,
   "metadata": {},
   "outputs": [
    {
     "name": "stdout",
     "output_type": "stream",
     "text": [
      "País:  Japão\n"
     ]
    }
   ],
   "source": [
    "print('País: ', nomes_paises[-1])"
   ]
  },
  {
   "cell_type": "code",
   "execution_count": 6,
   "metadata": {},
   "outputs": [],
   "source": [
    "nomes_paises[4] = 'Colômbia'"
   ]
  },
  {
   "cell_type": "code",
   "execution_count": 7,
   "metadata": {},
   "outputs": [
    {
     "name": "stdout",
     "output_type": "stream",
     "text": [
      "['Brasil', 'Argentina', 'China', 'Canadá', 'Colômbia']\n"
     ]
    }
   ],
   "source": [
    "print(nomes_paises)"
   ]
  },
  {
   "cell_type": "code",
   "execution_count": 8,
   "metadata": {},
   "outputs": [
    {
     "name": "stdout",
     "output_type": "stream",
     "text": [
      "['Argentina', 'China', 'Canadá', 'Colômbia']\n"
     ]
    }
   ],
   "source": [
    "print(nomes_paises[1:5])"
   ]
  },
  {
   "cell_type": "code",
   "execution_count": 9,
   "metadata": {},
   "outputs": [
    {
     "name": "stdout",
     "output_type": "stream",
     "text": [
      "['Argentina', 'Canadá']\n"
     ]
    }
   ],
   "source": [
    "print(nomes_paises[1:5:2])"
   ]
  },
  {
   "cell_type": "code",
   "execution_count": 10,
   "metadata": {
    "scrolled": true
   },
   "outputs": [
    {
     "name": "stdout",
     "output_type": "stream",
     "text": [
      "['Brasil', 'China', 'Colômbia']\n"
     ]
    }
   ],
   "source": [
    "print(nomes_paises[::2])"
   ]
  },
  {
   "cell_type": "code",
   "execution_count": 11,
   "metadata": {},
   "outputs": [
    {
     "name": "stdout",
     "output_type": "stream",
     "text": [
      "['Colômbia', 'Canadá', 'China', 'Argentina', 'Brasil']\n"
     ]
    }
   ],
   "source": [
    "print(nomes_paises[::-1])"
   ]
  },
  {
   "cell_type": "code",
   "execution_count": 12,
   "metadata": {},
   "outputs": [
    {
     "name": "stdout",
     "output_type": "stream",
     "text": [
      "True\n"
     ]
    }
   ],
   "source": [
    "print('Brasil' in nomes_paises)"
   ]
  },
  {
   "cell_type": "code",
   "execution_count": 13,
   "metadata": {},
   "outputs": [
    {
     "name": "stdout",
     "output_type": "stream",
     "text": [
      "False\n"
     ]
    }
   ],
   "source": [
    "print('Canadá' not in nomes_paises)"
   ]
  },
  {
   "cell_type": "code",
   "execution_count": 14,
   "metadata": {},
   "outputs": [],
   "source": [
    "lista_capitais = []"
   ]
  },
  {
   "cell_type": "code",
   "execution_count": 15,
   "metadata": {},
   "outputs": [
    {
     "name": "stdout",
     "output_type": "stream",
     "text": [
      "['Brasília', 'Buenos Aires', 'Pequim', 'Roma', 'Lisboa']\n"
     ]
    }
   ],
   "source": [
    "lista_capitais.append('Brasília')\n",
    "lista_capitais.append('Buenos Aires')\n",
    "lista_capitais.append('Pequim')\n",
    "lista_capitais.append('Roma')\n",
    "lista_capitais.append('Lisboa')\n",
    "\n",
    "print(lista_capitais)"
   ]
  },
  {
   "cell_type": "code",
   "execution_count": 16,
   "metadata": {},
   "outputs": [
    {
     "name": "stdout",
     "output_type": "stream",
     "text": [
      "['Brasília', 'Buenos Aires', 'Paris', 'Pequim', 'Roma', 'Lisboa']\n"
     ]
    }
   ],
   "source": [
    "lista_capitais.insert(2, 'Paris')\n",
    "print(lista_capitais)"
   ]
  },
  {
   "cell_type": "code",
   "execution_count": 17,
   "metadata": {},
   "outputs": [
    {
     "name": "stdout",
     "output_type": "stream",
     "text": [
      "['Brasília', 'Paris', 'Pequim', 'Roma', 'Lisboa']\n"
     ]
    }
   ],
   "source": [
    "lista_capitais.remove('Buenos Aires') # deleta a partir do nome na lista\n",
    "print(lista_capitais)"
   ]
  },
  {
   "cell_type": "code",
   "execution_count": 18,
   "metadata": {},
   "outputs": [
    {
     "name": "stdout",
     "output_type": "stream",
     "text": [
      "['Brasília', 'Paris', 'Roma', 'Lisboa']\n",
      "Valor removido:  Pequim\n"
     ]
    }
   ],
   "source": [
    "removido = lista_capitais.pop(2) # deleta a partir do indice na lista\n",
    "print(lista_capitais)\n",
    "print('Valor removido: ', removido)"
   ]
  },
  {
   "cell_type": "code",
   "execution_count": 19,
   "metadata": {},
   "outputs": [],
   "source": [
    "# Tuplas"
   ]
  },
  {
   "cell_type": "code",
   "execution_count": 21,
   "metadata": {},
   "outputs": [
    {
     "name": "stdout",
     "output_type": "stream",
     "text": [
      "('Brasil', 'Argentina', 'China', 'Canadá', 'Japão')\n"
     ]
    }
   ],
   "source": [
    "nome_paises = ('Brasil', 'Argentina', 'China', 'Canadá', 'Japão') # tuplas tambem podem ser declaradas sem parenteses\n",
    "print(nome_paises)"
   ]
  },
  {
   "cell_type": "code",
   "execution_count": 25,
   "metadata": {},
   "outputs": [
    {
     "name": "stdout",
     "output_type": "stream",
     "text": [
      "('São Paulo',) <class 'tuple'>\n"
     ]
    }
   ],
   "source": [
    "nome_estado = 'São Paulo',\n",
    "print(nome_estado, type(nome_estado))"
   ]
  },
  {
   "cell_type": "code",
   "execution_count": 26,
   "metadata": {},
   "outputs": [
    {
     "data": {
      "text/plain": [
       "5"
      ]
     },
     "execution_count": 26,
     "metadata": {},
     "output_type": "execute_result"
    }
   ],
   "source": [
    "len(nome_paises)"
   ]
  },
  {
   "cell_type": "code",
   "execution_count": 27,
   "metadata": {},
   "outputs": [
    {
     "data": {
      "text/plain": [
       "'Brasil'"
      ]
     },
     "execution_count": 27,
     "metadata": {},
     "output_type": "execute_result"
    }
   ],
   "source": [
    "nome_paises[0]"
   ]
  },
  {
   "cell_type": "code",
   "execution_count": 28,
   "metadata": {},
   "outputs": [],
   "source": [
    "b, a, c, ca, j = nome_paises"
   ]
  },
  {
   "cell_type": "code",
   "execution_count": 29,
   "metadata": {},
   "outputs": [
    {
     "name": "stdout",
     "output_type": "stream",
     "text": [
      "Brasil China Japão\n"
     ]
    }
   ],
   "source": [
    "print(b,c,j)"
   ]
  },
  {
   "cell_type": "code",
   "execution_count": 30,
   "metadata": {},
   "outputs": [
    {
     "name": "stdout",
     "output_type": "stream",
     "text": [
      "Brasil Argentina China Canadá Japão\n"
     ]
    }
   ],
   "source": [
    "print(*nome_paises)"
   ]
  },
  {
   "cell_type": "code",
   "execution_count": null,
   "metadata": {},
   "outputs": [],
   "source": []
  }
 ],
 "metadata": {
  "kernelspec": {
   "display_name": "Python 3",
   "language": "python",
   "name": "python3"
  },
  "language_info": {
   "codemirror_mode": {
    "name": "ipython",
    "version": 3
   },
   "file_extension": ".py",
   "mimetype": "text/x-python",
   "name": "python",
   "nbconvert_exporter": "python",
   "pygments_lexer": "ipython3",
   "version": "3.7.6"
  }
 },
 "nbformat": 4,
 "nbformat_minor": 4
}
