{
 "cells": [
  {
   "cell_type": "code",
   "execution_count": 1,
   "metadata": {},
   "outputs": [
    {
     "name": "stdout",
     "output_type": "stream",
     "text": [
      "Olá, Rafaela\n"
     ]
    }
   ],
   "source": [
    "a = 'Olá, '\n",
    "b = 'Rafaela'\n",
    "print(a + b)"
   ]
  },
  {
   "cell_type": "code",
   "execution_count": 2,
   "metadata": {},
   "outputs": [
    {
     "name": "stdout",
     "output_type": "stream",
     "text": [
      "RafaelaRafaelaRafaelaRafaelaRafaela\n"
     ]
    }
   ],
   "source": [
    "print(b*5)"
   ]
  },
  {
   "cell_type": "code",
   "execution_count": 11,
   "metadata": {},
   "outputs": [
    {
     "name": "stdout",
     "output_type": "stream",
     "text": [
      "Rafaela tem 26 anos\n",
      "Rafaela tem 26 anos\n"
     ]
    }
   ],
   "source": [
    "nome = 'Rafaela'\n",
    "idade = 26\n",
    "print(nome + ' tem ' + str(idade) + ' anos')\n",
    "print('{} tem {} anos'.format(nome, idade))"
   ]
  },
  {
   "cell_type": "code",
   "execution_count": 12,
   "metadata": {},
   "outputs": [
    {
     "name": "stdout",
     "output_type": "stream",
     "text": [
      "Preço da gasolina: 3.40\n"
     ]
    }
   ],
   "source": [
    "preco_gasolina = 3.399\n",
    "print('Preço da gasolina: {:.2f}'.format(preco_gasolina))"
   ]
  },
  {
   "cell_type": "code",
   "execution_count": 13,
   "metadata": {},
   "outputs": [
    {
     "name": "stdout",
     "output_type": "stream",
     "text": [
      "Rafaela tem 26 anos\n"
     ]
    }
   ],
   "source": [
    "print(f'{nome} tem {idade} anos')"
   ]
  },
  {
   "cell_type": "code",
   "execution_count": null,
   "metadata": {},
   "outputs": [],
   "source": []
  }
 ],
 "metadata": {
  "kernelspec": {
   "display_name": "Python 3",
   "language": "python",
   "name": "python3"
  },
  "language_info": {
   "codemirror_mode": {
    "name": "ipython",
    "version": 3
   },
   "file_extension": ".py",
   "mimetype": "text/x-python",
   "name": "python",
   "nbconvert_exporter": "python",
   "pygments_lexer": "ipython3",
   "version": "3.7.6"
  }
 },
 "nbformat": 4,
 "nbformat_minor": 4
}
